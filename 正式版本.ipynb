{
 "cells": [
  {
   "cell_type": "code",
   "execution_count": 1,
   "metadata": {},
   "outputs": [],
   "source": [
    "import pandas as pd\n",
    "import matplotlib.pyplot as plt\n",
    "import seaborn as sns\n",
    "import numpy as np\n",
    "from scipy.stats import norm\n",
    "from sklearn.preprocessing import StandardScaler\n",
    "from sklearn.model_selection import train_test_split\n",
    "from scipy import stats\n",
    "from sklearn.compose import ColumnTransformer\n",
    "from sklearn.pipeline import Pipeline\n",
    "from sklearn.impute import SimpleImputer\n",
    "from sklearn.preprocessing import OneHotEncoder\n",
    "from sklearn.ensemble import RandomForestRegressor\n",
    "from sklearn.metrics import mean_absolute_error\n",
    "import warnings\n",
    "warnings.filterwarnings('ignore')\n",
    "%matplotlib inline"
   ]
  },
  {
   "cell_type": "code",
   "execution_count": 2,
   "metadata": {},
   "outputs": [],
   "source": [
    "df_train = pd.read_csv(r'C:\\Users\\fulian\\Desktop\\price - 副本.csv')\n",
    "df_test=pd.read_csv(r\"C:\\Users\\fulian\\Desktop\\test.csv\")"
   ]
  },
  {
   "cell_type": "code",
   "execution_count": 3,
   "metadata": {},
   "outputs": [],
   "source": [
    "from datetime import datetime\n",
    "df_train['licenseDate']= pd.to_datetime(df_train[\"licenseDate\"],format='%m/%d/%Y')\n",
    "df_train['registerDate']= pd.to_datetime(df_train[\"registerDate\"],format='%m/%d/%Y')\n",
    "df_train['tradeTime']= pd.to_datetime(df_train[\"tradeTime\"],format='%m/%d/%Y')\n",
    "df_train['duringdate']=df_train['licenseDate']-df_train['registerDate']\n",
    "df_train['duringdate'] =df_train['duringdate'].astype('timedelta64[D]').astype(float)\n",
    "dt1=datetime(1900,1,1)\n",
    "df_train['tradeTime']=df_train['tradeTime']-dt1\n",
    "df_train['tradeTime'] =df_train['tradeTime'].astype('timedelta64[D]').astype(float)\n"
   ]
  },
  {
   "cell_type": "code",
   "execution_count": 4,
   "metadata": {},
   "outputs": [],
   "source": [
    "from datetime import datetime\n",
    "df_test['licenseDate']= pd.to_datetime(df_test[\"licenseDate\"],format='%m/%d/%Y')\n",
    "df_test['registerDate']= pd.to_datetime(df_test[\"registerDate\"],format='%m/%d/%Y')\n",
    "df_test['tradeTime']= pd.to_datetime(df_test[\"tradeTime\"],format='%m/%d/%Y')\n",
    "df_test['duringdate']=df_test['licenseDate']-df_test['registerDate']\n",
    "df_test['duringdate'] =df_test['duringdate'].astype('timedelta64[D]').astype(float)\n",
    "df_test['tradeTime']=df_test['tradeTime']-dt1\n",
    "df_test['tradeTime'] =df_test['tradeTime'].astype('timedelta64[D]').astype(float)\n"
   ]
  },
  {
   "cell_type": "code",
   "execution_count": 5,
   "metadata": {},
   "outputs": [],
   "source": [
    "df_train.dropna(axis=0, subset=['price'], inplace=True)\n",
    "y = df_train.price\n",
    "df_train.drop(['price'], axis=1, inplace=True)\n",
    "\n",
    "# Break off validation set from training data\n",
    "X_train_full, X_valid_full, y_train, y_valid = train_test_split(df_train, y, \n",
    "                                                                train_size=0.8, test_size=0.2,\n",
    "                                                                random_state=0)\n",
    "\n",
    "# \"Cardinality\" means the number of unique values in a column\n",
    "# Select categorical columns with relatively low cardinality (convenient but arbitrary)\n",
    "categorical_cols = [cname for cname in X_train_full.columns if\n",
    "                    X_train_full[cname].nunique() < 10 and \n",
    "                    X_train_full[cname].dtype in[\"object\",'datetime64[ns]']]\n",
    "\n",
    "# Select numerical columns\n",
    "numerical_cols = [cname for cname in X_train_full.columns if \n",
    "                X_train_full[cname].dtype in ['int64', 'float64']]\n",
    "\n",
    "# Keep selected columns only\n",
    "my_cols = categorical_cols + numerical_cols\n",
    "X_train = X_train_full[my_cols].copy()\n",
    "X_valid = X_valid_full[my_cols].copy()\n",
    "X_test = df_train[my_cols].copy()"
   ]
  },
  {
   "cell_type": "code",
   "execution_count": 6,
   "metadata": {},
   "outputs": [
    {
     "data": {
      "text/plain": [
       "Pipeline(steps=[('preprocessor',\n",
       "                 ColumnTransformer(transformers=[('num',\n",
       "                                                  SimpleImputer(strategy='median'),\n",
       "                                                  ['carid', 'tradeTime',\n",
       "                                                   'brand', 'serial', 'model',\n",
       "                                                   'mileage', 'color', 'cityId',\n",
       "                                                   'carCode', 'transferCount',\n",
       "                                                   'seatings', 'country',\n",
       "                                                   'maketype', 'modelyear',\n",
       "                                                   'displacement', 'gearbox',\n",
       "                                                   'oiltype', 'newprice',\n",
       "                                                   'duringdate']),\n",
       "                                                 ('cat',\n",
       "                                                  Pipeline(steps=[('imputer',\n",
       "                                                                   SimpleImputer(strategy='most_frequent')),\n",
       "                                                                  ('onehot',\n",
       "                                                                   OneHotEncoder(handle_unknown='ignore'))]),\n",
       "                                                  [])])),\n",
       "                ('model', ExtraTreesRegressor())])"
      ]
     },
     "execution_count": 6,
     "metadata": {},
     "output_type": "execute_result"
    }
   ],
   "source": [
    "from sklearn.compose import ColumnTransformer\n",
    "from sklearn.pipeline import Pipeline\n",
    "from sklearn.impute import SimpleImputer\n",
    "from sklearn.preprocessing import OneHotEncoder\n",
    "from sklearn.ensemble import RandomForestRegressor\n",
    "from sklearn.metrics import mean_absolute_error\n",
    "from sklearn.tree import DecisionTreeRegressor\n",
    "from sklearn.ensemble import ExtraTreesRegressor\n",
    "import matplotlib.pyplot as plt\n",
    "from sklearn import tree\n",
    "\n",
    "\n",
    "# Preprocessing for numerical data\n",
    "numerical_transformer = SimpleImputer(strategy='median')\n",
    "\n",
    "# Preprocessing for categorical data\n",
    "categorical_transformer = Pipeline(steps=[\n",
    "    ('imputer', SimpleImputer(strategy='most_frequent')),\n",
    "    ('onehot', OneHotEncoder(handle_unknown='ignore'))\n",
    "])\n",
    "\n",
    "# Bundle preprocessing for numerical and categorical data\n",
    "preprocessor = ColumnTransformer(\n",
    "    transformers=[\n",
    "        ('num', numerical_transformer, numerical_cols),\n",
    "        ('cat', categorical_transformer, categorical_cols)\n",
    "    ])\n",
    "\n",
    "# Define model\n",
    "model= ExtraTreesRegressor()\n",
    "\n",
    "# Bundle preprocessing and modeling code in a pipeline\n",
    "clf = Pipeline(steps=[('preprocessor', preprocessor),\n",
    "                     ('model', model)\n",
    "                     ])\n",
    "\n",
    "# Preprocessing of training data, fit model \n",
    "clf.fit(X_train, y_train)\n",
    "\n",
    "# Preprocessing of validation data, get predictions\n",
    "#preds = clf.predict(X_valid)\n",
    "\n",
    "#print('MAE:', mean_absolute_error(y_valid, preds))"
   ]
  },
  {
   "cell_type": "code",
   "execution_count": null,
   "metadata": {},
   "outputs": [],
   "source": [
    "from sklearn.model_selection  import RandomizedSearchCV\n",
    "#sorted(model.get_params().keys())\n",
    "param_dist = {\n",
    "        'model__n_estimators':range(50,200,1),\n",
    "        'model__max_depth':range(2,15,1),\n",
    "        'model__max_features': range(2,8,1)\n",
    "        }\n",
    "grid_search = RandomizedSearchCV(clf, param_dist, cv=5,\n",
    "                           scoring='neg_mean_squared_error',n_iter=300,n_jobs = -1)\n",
    "\n",
    "grid_search.fit(X_train, y_train)"
   ]
  },
  {
   "cell_type": "code",
   "execution_count": null,
   "metadata": {},
   "outputs": [
    {
     "data": {
      "text/plain": [
       "Index(['carid', 'tradeTime', 'brand', 'serial', 'model', 'mileage', 'color',\n",
       "       'cityId', 'carCode', 'transferCount', 'seatings', 'registerDate',\n",
       "       'licenseDate', 'country', 'maketype', 'modelyear', 'displacement',\n",
       "       'gearbox', 'oiltype', 'newprice', 'duringdate'],\n",
       "      dtype='object')"
      ]
     },
     "execution_count": 11,
     "metadata": {},
     "output_type": "execute_result"
    }
   ],
   "source": [
    "df_train.columns\n"
   ]
  },
  {
   "cell_type": "code",
   "execution_count": null,
   "metadata": {},
   "outputs": [],
   "source": [
    "from sklearn.ensemble import RandomForestRegressor\n",
    "from sklearn.metrics import mean_absolute_error\n",
    "# Function for comparing different approaches\n",
    "def score_dataset1(X_train, X_valid, y_train, y_valid):\n",
    "    model2=grid_search.best_estimator_\n",
    "    clf2=Pipeline(steps=[('preprocessor', preprocessor),\n",
    "                     ('model2', model)\n",
    "                     ])\n",
    "    clf2.fit(X_train, y_train)\n",
    "    preds = model2.predict(X_valid)\n",
    "    ape=(preds-y_valid)/y_valid\n",
    "    n=len(y_valid)\n",
    "    accuracy=len(ape<0.05)/n\n",
    "    mape=sum(ape)/n\n",
    "    return accuracy"
   ]
  },
  {
   "cell_type": "code",
   "execution_count": null,
   "metadata": {},
   "outputs": [],
   "source": [
    "from sklearn.ensemble import RandomForestRegressor\n",
    "from sklearn.metrics import mean_absolute_error\n",
    "# Function for comparing different approaches\n",
    "def score_dataset(X_train, X_valid, y_train, y_valid):\n",
    "    model2=grid_search.best_estimator_\n",
    "    clf2=Pipeline(steps=[('preprocessor', preprocessor),\n",
    "                     ('model2', model)\n",
    "                     ])\n",
    "    clf2.fit(X_train, y_train)\n",
    "    preds = model2.predict(X_valid)\n",
    "    ape=(preds-y_valid)/y_valid\n",
    "    n=len(y_valid)\n",
    "    mape=sum(ape)/n\n",
    "    return mape\n",
    "    "
   ]
  },
  {
   "cell_type": "code",
   "execution_count": null,
   "metadata": {},
   "outputs": [],
   "source": [
    "def measure(mape,accuracy):\n",
    "    return(0.2*(1-mape)+0.8*accuracy)"
   ]
  },
  {
   "cell_type": "code",
   "execution_count": null,
   "metadata": {},
   "outputs": [
    {
     "name": "stdout",
     "output_type": "stream",
     "text": [
      "误差标准: 0.9638718387479623\n"
     ]
    }
   ],
   "source": [
    "model2=grid_search.best_estimator_\n",
    "clf2=Pipeline(steps=[('preprocessor', preprocessor),\n",
    "                     ('model2', model)\n",
    "                     ])\n",
    "clf2.fit(X_train, y_train)\n",
    "preds = clf2.predict(X_valid)\n",
    "map=score_dataset(X_train, X_valid, y_train, y_valid)\n",
    "acc=score_dataset1(X_train, X_valid, y_train, y_valid)\n",
    "print('误差标准:', measure(map,acc))\n"
   ]
  },
  {
   "cell_type": "code",
   "execution_count": null,
   "metadata": {},
   "outputs": [],
   "source": [
    "from sklearn.model_selection import cross_val_score\n",
    "from sklearn.model_selection import KFold\n",
    "cv = KFold(n_splits=5)\n",
    "scores = cross_val_score(clf2, X_train, y_train,\n",
    "                         scoring=\"neg_mean_squared_error\", cv=cv)\n",
    "tree_rmse_scores = np.sqrt(-scores)\n"
   ]
  },
  {
   "cell_type": "code",
   "execution_count": null,
   "metadata": {},
   "outputs": [
    {
     "name": "stdout",
     "output_type": "stream",
     "text": [
      "Scores: [ 3.84594123 12.87731439  6.57474143  4.3967353   3.3733324 ]\n",
      "Mean: 6.213612949720288\n",
      "Standard deviation: 3.507404680743856\n"
     ]
    }
   ],
   "source": [
    "def display_scores(scores):\n",
    "        print(\"Scores:\", scores)\n",
    "        print(\"Mean:\", scores.mean())\n",
    "        print(\"Standard deviation:\", scores.std())\n",
    "display_scores(tree_rmse_scores)"
   ]
  },
  {
   "cell_type": "code",
   "execution_count": null,
   "metadata": {},
   "outputs": [
    {
     "data": {
      "text/plain": [
       "{'model__n_estimators': 133, 'model__max_features': 7, 'model__max_depth': 14}"
      ]
     },
     "execution_count": 28,
     "metadata": {},
     "output_type": "execute_result"
    }
   ],
   "source": [
    "grid_search.best_params_"
   ]
  },
  {
   "cell_type": "code",
   "execution_count": null,
   "metadata": {},
   "outputs": [],
   "source": [
    "del df_test['licenseDate']\n",
    "del df_test['registerDate']\n"
   ]
  },
  {
   "cell_type": "code",
   "execution_count": null,
   "metadata": {},
   "outputs": [],
   "source": [
    "preds_test=clf2.predict(df_test)\n"
   ]
  },
  {
   "cell_type": "code",
   "execution_count": null,
   "metadata": {},
   "outputs": [
    {
     "data": {
      "text/plain": [
       "dict_keys(['bootstrap', 'ccp_alpha', 'criterion', 'max_depth', 'max_features', 'max_leaf_nodes', 'max_samples', 'min_impurity_decrease', 'min_impurity_split', 'min_samples_leaf', 'min_samples_split', 'min_weight_fraction_leaf', 'n_estimators', 'n_jobs', 'oob_score', 'random_state', 'verbose', 'warm_start'])"
      ]
     },
     "execution_count": 21,
     "metadata": {},
     "output_type": "execute_result"
    }
   ],
   "source": [
    "model.get_params().keys()"
   ]
  },
  {
   "cell_type": "code",
   "execution_count": null,
   "metadata": {},
   "outputs": [],
   "source": [
    "output = pd.DataFrame({'carid': df_test.carid,\n",
    "'price': preds_test})\n",
    "output.to_csv('submission1.csv', index=False)"
   ]
  }
 ],
 "metadata": {
  "interpreter": {
   "hash": "6ebb203a09453cf34f770403440b4c78cd961b7c55a367b88b6fd8fa2471c8e3"
  },
  "kernelspec": {
   "display_name": "Python 3.8.8 64-bit ('base': conda)",
   "language": "python",
   "name": "python3"
  },
  "language_info": {
   "codemirror_mode": {
    "name": "ipython",
    "version": 3
   },
   "file_extension": ".py",
   "mimetype": "text/x-python",
   "name": "python",
   "nbconvert_exporter": "python",
   "pygments_lexer": "ipython3",
   "version": "3.8.8"
  },
  "orig_nbformat": 4
 },
 "nbformat": 4,
 "nbformat_minor": 2
}
